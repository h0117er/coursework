{
 "cells": [
  {
   "cell_type": "markdown",
   "id": "3c3896b4",
   "metadata": {},
   "source": [
    "# Applied DS LAB 2 - Sentiment Analysis of Reviews\n",
    "\n",
    "### Data set\n",
    "\n",
    "A dataset, car_reviews.csv is provided, containing 1,382 rows and two columns:\n",
    "\n",
    "Sentiment: It is labelled with either ‘Pos’ or ‘Neg’ to indicate whether the review has been assessed as positive or negative in the sentiment it expresses\n",
    "Review: People have assessed about the cars\n",
    "\n"
   ]
  },
  {
   "cell_type": "code",
   "execution_count": 2,
   "id": "a016f652",
   "metadata": {
    "scrolled": true
   },
   "outputs": [
    {
     "name": "stderr",
     "output_type": "stream",
     "text": [
      "[nltk_data] Downloading package wordnet to /Users/h/nltk_data...\n",
      "[nltk_data]   Package wordnet is already up-to-date!\n",
      "[nltk_data] Downloading package punkt to /Users/h/nltk_data...\n",
      "[nltk_data]   Package punkt is already up-to-date!\n",
      "[nltk_data] Downloading package stopwords to /Users/h/nltk_data...\n",
      "[nltk_data]   Package stopwords is already up-to-date!\n"
     ]
    }
   ],
   "source": [
    "import pandas as pd\n",
    "from nltk.tokenize import sent_tokenize, word_tokenize\n",
    "import nltk\n",
    "from nltk.corpus import stopwords\n",
    "nltk.download('wordnet')\n",
    "nltk.download('punkt')\n",
    "nltk.download('stopwords')\n",
    "import string\n",
    "from nltk.stem import PorterStemmer\n",
    "import numpy as np\n",
    "from sklearn.model_selection import train_test_split\n",
    "from nltk.stem import WordNetLemmatizer\n",
    "import matplotlib.pyplot as plt\n",
    "import seaborn as sns"
   ]
  },
  {
   "cell_type": "markdown",
   "id": "00e68b1a",
   "metadata": {
    "scrolled": true
   },
   "source": [
    "data = pd.read_csv('./car_reviews.csv')"
   ]
  },
  {
   "cell_type": "code",
   "execution_count": 4,
   "id": "01e600ce",
   "metadata": {},
   "outputs": [
    {
     "data": {
      "text/html": [
       "<div>\n",
       "<style scoped>\n",
       "    .dataframe tbody tr th:only-of-type {\n",
       "        vertical-align: middle;\n",
       "    }\n",
       "\n",
       "    .dataframe tbody tr th {\n",
       "        vertical-align: top;\n",
       "    }\n",
       "\n",
       "    .dataframe thead th {\n",
       "        text-align: right;\n",
       "    }\n",
       "</style>\n",
       "<table border=\"1\" class=\"dataframe\">\n",
       "  <thead>\n",
       "    <tr style=\"text-align: right;\">\n",
       "      <th></th>\n",
       "      <th>Sentiment</th>\n",
       "      <th>Review</th>\n",
       "    </tr>\n",
       "  </thead>\n",
       "  <tbody>\n",
       "    <tr>\n",
       "      <th>0</th>\n",
       "      <td>Neg</td>\n",
       "      <td>In 1992 we bought a new Taurus and we really ...</td>\n",
       "    </tr>\n",
       "    <tr>\n",
       "      <th>1</th>\n",
       "      <td>Neg</td>\n",
       "      <td>The last business trip  I drove to San Franci...</td>\n",
       "    </tr>\n",
       "    <tr>\n",
       "      <th>2</th>\n",
       "      <td>Neg</td>\n",
       "      <td>My husband and I purchased a 1990 Ford F250 a...</td>\n",
       "    </tr>\n",
       "    <tr>\n",
       "      <th>3</th>\n",
       "      <td>Neg</td>\n",
       "      <td>I feel I have a thorough opinion of this truc...</td>\n",
       "    </tr>\n",
       "    <tr>\n",
       "      <th>4</th>\n",
       "      <td>Neg</td>\n",
       "      <td>AS a mother of 3  all of whom are still in ca...</td>\n",
       "    </tr>\n",
       "    <tr>\n",
       "      <th>...</th>\n",
       "      <td>...</td>\n",
       "      <td>...</td>\n",
       "    </tr>\n",
       "    <tr>\n",
       "      <th>1377</th>\n",
       "      <td>Pos</td>\n",
       "      <td>In June we bought the Sony Limited Edition Fo...</td>\n",
       "    </tr>\n",
       "    <tr>\n",
       "      <th>1378</th>\n",
       "      <td>Pos</td>\n",
       "      <td>After 140 000 miles  we decided to replace my...</td>\n",
       "    </tr>\n",
       "    <tr>\n",
       "      <th>1379</th>\n",
       "      <td>Pos</td>\n",
       "      <td>The Ford Focus is a great little record setti...</td>\n",
       "    </tr>\n",
       "    <tr>\n",
       "      <th>1380</th>\n",
       "      <td>Pos</td>\n",
       "      <td>I needed a new car because my hyundai excel 9...</td>\n",
       "    </tr>\n",
       "    <tr>\n",
       "      <th>1381</th>\n",
       "      <td>Pos</td>\n",
       "      <td>The 2000 Ford Focus SE 4 door sedan has a spa...</td>\n",
       "    </tr>\n",
       "  </tbody>\n",
       "</table>\n",
       "<p>1382 rows × 2 columns</p>\n",
       "</div>"
      ],
      "text/plain": [
       "     Sentiment                                             Review\n",
       "0          Neg   In 1992 we bought a new Taurus and we really ...\n",
       "1          Neg   The last business trip  I drove to San Franci...\n",
       "2          Neg   My husband and I purchased a 1990 Ford F250 a...\n",
       "3          Neg   I feel I have a thorough opinion of this truc...\n",
       "4          Neg   AS a mother of 3  all of whom are still in ca...\n",
       "...        ...                                                ...\n",
       "1377       Pos   In June we bought the Sony Limited Edition Fo...\n",
       "1378       Pos   After 140 000 miles  we decided to replace my...\n",
       "1379       Pos   The Ford Focus is a great little record setti...\n",
       "1380       Pos   I needed a new car because my hyundai excel 9...\n",
       "1381       Pos   The 2000 Ford Focus SE 4 door sedan has a spa...\n",
       "\n",
       "[1382 rows x 2 columns]"
      ]
     },
     "execution_count": 4,
     "metadata": {},
     "output_type": "execute_result"
    }
   ],
   "source": [
    "data"
   ]
  },
  {
   "cell_type": "markdown",
   "id": "82e703dc",
   "metadata": {},
   "source": [
    "#### Task1) Step1.\n",
    "Identifying numbers in 'Review' of the data and removing the numbers that are not likely to affect sentiment. "
   ]
  },
  {
   "cell_type": "code",
   "execution_count": 3,
   "id": "4a568d62",
   "metadata": {},
   "outputs": [],
   "source": [
    "def without_digits(data):\n",
    "    return \"\".join([i for i in data if not i.isdigit()])"
   ]
  },
  {
   "cell_type": "code",
   "execution_count": 4,
   "id": "ea280e84",
   "metadata": {},
   "outputs": [],
   "source": [
    "data['Review'] = data['Review'].apply(lambda x: without_digits(x))"
   ]
  },
  {
   "cell_type": "markdown",
   "id": "ccdcde0d",
   "metadata": {},
   "source": [
    "#### Task1) Step2.\n",
    "Identifying stopwords(eg.'and','or' etc) and punctuations(eg.',? etc) by making a set and removing them that are not likely to affect sentiment"
   ]
  },
  {
   "cell_type": "code",
   "execution_count": 5,
   "id": "a8f3ffee",
   "metadata": {},
   "outputs": [],
   "source": [
    "stop = set(stopwords.words('english') + list(string.punctuation))\n",
    "data['Review_without'] = data['Review'].apply(lambda x: ' '.join([word for word in x.split() if word not in (stop)]))"
   ]
  },
  {
   "cell_type": "markdown",
   "id": "ef45bdd1",
   "metadata": {},
   "source": [
    "#### Task1) Step3.\n",
    "Converting remaining words are not case sensitive (i.e. the classifier should not distinguish upper/lower\n",
    "case characters)."
   ]
  },
  {
   "cell_type": "code",
   "execution_count": 6,
   "id": "de7cef10",
   "metadata": {},
   "outputs": [],
   "source": [
    "data['Review_without'] = data['Review_without'].str.lower().str.split()"
   ]
  },
  {
   "cell_type": "markdown",
   "id": "9f8426ba",
   "metadata": {},
   "source": [
    "#### Task1) Step4.\n",
    "Treating minor variations of a word (e.g. ‘fault’, ‘faults’ and ‘faulty’) as instances of the same word (e.g. ‘fault’) when you are using them in your classifier by applying to 'PorterStemmer' and 'WordNetLemmatizer' module for word normalisation.\n",
    "\n",
    "After applying word normalisation, as you can see, some words are changed.\n",
    "For example, \n",
    "1) loved -> love (row 1)\n",
    "\n",
    "2) business -> busi (row 2)\n",
    "\n",
    "3) purchased -> purchas (row 3)"
   ]
  },
  {
   "cell_type": "code",
   "execution_count": 7,
   "id": "819f479a",
   "metadata": {},
   "outputs": [],
   "source": [
    "ps = PorterStemmer()\n",
    "wnl = WordNetLemmatizer()\n",
    "data['token'] = data['Review_without'].apply(lambda x: [ps.stem(y) for y in x]) # Stem every word.\n",
    "data['token'] = data['token'].apply(lambda x: [wnl.lemmatize(y) for y in x]) # Lemmatization every word."
   ]
  },
  {
   "cell_type": "code",
   "execution_count": 8,
   "id": "853ebb6b",
   "metadata": {},
   "outputs": [
    {
     "data": {
      "text/html": [
       "<div>\n",
       "<style scoped>\n",
       "    .dataframe tbody tr th:only-of-type {\n",
       "        vertical-align: middle;\n",
       "    }\n",
       "\n",
       "    .dataframe tbody tr th {\n",
       "        vertical-align: top;\n",
       "    }\n",
       "\n",
       "    .dataframe thead th {\n",
       "        text-align: right;\n",
       "    }\n",
       "</style>\n",
       "<table border=\"1\" class=\"dataframe\">\n",
       "  <thead>\n",
       "    <tr style=\"text-align: right;\">\n",
       "      <th></th>\n",
       "      <th>Sentiment</th>\n",
       "      <th>Review</th>\n",
       "      <th>Review_without</th>\n",
       "      <th>token</th>\n",
       "    </tr>\n",
       "  </thead>\n",
       "  <tbody>\n",
       "    <tr>\n",
       "      <th>0</th>\n",
       "      <td>Neg</td>\n",
       "      <td>In  we bought a new Taurus and we really love...</td>\n",
       "      <td>[in, bought, new, taurus, really, loved, so, d...</td>\n",
       "      <td>[in, bought, new, tauru, realli, love, so, dec...</td>\n",
       "    </tr>\n",
       "    <tr>\n",
       "      <th>1</th>\n",
       "      <td>Neg</td>\n",
       "      <td>The last business trip  I drove to San Franci...</td>\n",
       "      <td>[the, last, business, trip, i, drove, san, fra...</td>\n",
       "      <td>[the, last, busi, trip, i, drove, san, francis...</td>\n",
       "    </tr>\n",
       "    <tr>\n",
       "      <th>2</th>\n",
       "      <td>Neg</td>\n",
       "      <td>My husband and I purchased a  Ford F and had ...</td>\n",
       "      <td>[my, husband, i, purchased, ford, f, nothing, ...</td>\n",
       "      <td>[my, husband, i, purchas, ford, f, noth, probl...</td>\n",
       "    </tr>\n",
       "    <tr>\n",
       "      <th>3</th>\n",
       "      <td>Neg</td>\n",
       "      <td>I feel I have a thorough opinion of this truc...</td>\n",
       "      <td>[i, feel, i, thorough, opinion, truck, compare...</td>\n",
       "      <td>[i, feel, i, thorough, opinion, truck, compar,...</td>\n",
       "    </tr>\n",
       "    <tr>\n",
       "      <th>4</th>\n",
       "      <td>Neg</td>\n",
       "      <td>AS a mother of   all of whom are still in car...</td>\n",
       "      <td>[as, mother, still, carseats, logical, thing, ...</td>\n",
       "      <td>[a, mother, still, carseat, logic, thing, trad...</td>\n",
       "    </tr>\n",
       "  </tbody>\n",
       "</table>\n",
       "</div>"
      ],
      "text/plain": [
       "  Sentiment                                             Review  \\\n",
       "0       Neg   In  we bought a new Taurus and we really love...   \n",
       "1       Neg   The last business trip  I drove to San Franci...   \n",
       "2       Neg   My husband and I purchased a  Ford F and had ...   \n",
       "3       Neg   I feel I have a thorough opinion of this truc...   \n",
       "4       Neg   AS a mother of   all of whom are still in car...   \n",
       "\n",
       "                                      Review_without  \\\n",
       "0  [in, bought, new, taurus, really, loved, so, d...   \n",
       "1  [the, last, business, trip, i, drove, san, fra...   \n",
       "2  [my, husband, i, purchased, ford, f, nothing, ...   \n",
       "3  [i, feel, i, thorough, opinion, truck, compare...   \n",
       "4  [as, mother, still, carseats, logical, thing, ...   \n",
       "\n",
       "                                               token  \n",
       "0  [in, bought, new, tauru, realli, love, so, dec...  \n",
       "1  [the, last, busi, trip, i, drove, san, francis...  \n",
       "2  [my, husband, i, purchas, ford, f, noth, probl...  \n",
       "3  [i, feel, i, thorough, opinion, truck, compar,...  \n",
       "4  [a, mother, still, carseat, logic, thing, trad...  "
      ]
     },
     "execution_count": 8,
     "metadata": {},
     "output_type": "execute_result"
    }
   ],
   "source": [
    "data.head()"
   ]
  },
  {
   "cell_type": "markdown",
   "id": "b0eda6b0",
   "metadata": {},
   "source": [
    "#### Task1) Step5.\n",
    "Using a bag of words technique, in which you build a vocabulary of individual words that appear in the dataset once it has been cleaned up. Also, the output to demonstrate that a vector has been created for each review by appearing the number of times that a word/word stem with a small sample of reviews. "
   ]
  },
  {
   "cell_type": "code",
   "execution_count": 9,
   "id": "a71cacde",
   "metadata": {
    "scrolled": true
   },
   "outputs": [
    {
     "data": {
      "text/plain": [
       "[('i', 8398),\n",
       " ('car', 3941),\n",
       " ('the', 3051),\n",
       " ('ford', 2118),\n",
       " ('it', 1266),\n",
       " ('like', 1141),\n",
       " ('get', 1120),\n",
       " ('seat', 1118),\n",
       " ('drive', 1100),\n",
       " ('problem', 1081),\n",
       " ('one', 1080),\n",
       " ('vehicl', 1050),\n",
       " ('would', 1010),\n",
       " ('time', 924),\n",
       " ('engin', 917)]"
      ]
     },
     "execution_count": 9,
     "metadata": {},
     "output_type": "execute_result"
    }
   ],
   "source": [
    "from sklearn.feature_extraction.text import CountVectorizer,TfidfVectorizer\n",
    "from nltk import FreqDist\n",
    "#convert the neg/pos values to digits(0 or 1) for applying naive bayes.\n",
    "data['Neg/Pos'] = (data['Sentiment'] == 'Pos')\n",
    "data['Neg/Pos'] = data['Neg/Pos'].astype(int)\n",
    "neg_data = data[data['Neg/Pos']==0]\n",
    "\n",
    "# Create vectorizer\n",
    "CountVec = CountVectorizer()\n",
    "\n",
    "#transform\n",
    "neg_list = []\n",
    "for i in neg_data['token']:  \n",
    "    for j in i:\n",
    "        neg_list.append(j)\n",
    "    \n",
    "#the most frequent negative words    \n",
    "count_neg_word = FreqDist(neg_list)\n",
    "count_neg_word.most_common(15)"
   ]
  },
  {
   "cell_type": "code",
   "execution_count": 10,
   "id": "cd6e542d",
   "metadata": {
    "scrolled": true
   },
   "outputs": [
    {
     "name": "stdout",
     "output_type": "stream",
     "text": [
      "Training set size: 1105\n",
      "Test set size: 277\n"
     ]
    }
   ],
   "source": [
    "data['Review_without'] = data['token'].apply(lambda x: ' '.join(x))\n",
    "X = data['Review_without']\n",
    "y = data['Neg/Pos']\n",
    "\n",
    "train_X, test_X,train_y, test_y = train_test_split(X, y, test_size=0.2)\n",
    "\n",
    "print('Training set size:', train_X.shape[0])\n",
    "print('Test set size:', test_X.shape[0])"
   ]
  },
  {
   "cell_type": "markdown",
   "id": "7faca1e0",
   "metadata": {},
   "source": [
    "#### Task1) Step6. \n",
    "Showing appropriate Bernoulli Naïve Bayes or Multinomial Naïve Bayes model have been used for classification using existing libraries.\n",
    "\n",
    "Also, for avoiding data leakage, I only train the model on the training data.\n",
    "\n",
    "Output:\n",
    "\n",
    "Recall, Precision, and Accuracy should be high as possible. In this case, precisions are quite similar, but I've seen that higher recall and accuracy in the multinomial Naïve Bayes model compared to the Bernoulli Naïve Bayes model."
   ]
  },
  {
   "cell_type": "code",
   "execution_count": 11,
   "id": "af9d7212",
   "metadata": {},
   "outputs": [],
   "source": [
    "vectoriser = TfidfVectorizer(ngram_range=(1,2))\n",
    "vectoriser.fit(train_X)\n",
    "train_X = vectoriser.transform(train_X)\n",
    "test_X = vectoriser.transform(test_X)"
   ]
  },
  {
   "cell_type": "code",
   "execution_count": 12,
   "id": "bd319951",
   "metadata": {},
   "outputs": [],
   "source": [
    "def plt_format(test_y, y_pred):\n",
    "    cf_matrix = confusion_matrix(test_y, y_pred)\n",
    "    group_names = ['True Neg','False Pos','False Neg','True Pos']\n",
    "    group_counts = [\"{0:0.0f}\".format(value) for value in cf_matrix.flatten()]\n",
    "    group_percentages = [\"{0:.2%}\".format(value) for value in cf_matrix.flatten()/np.sum(cf_matrix)]\n",
    "    labels = [f\"{v1}\\n{v2}\\n{v3}\" for v1, v2, v3 in zip(group_names,group_counts,group_percentages)]\n",
    "    labels = np.asarray(labels).reshape(2,2)\n",
    "    sns.heatmap(cf_matrix, annot=labels, fmt='', cmap='Blues')\n",
    "    plt.title (\"Confusion Matrix\")"
   ]
  },
  {
   "cell_type": "markdown",
   "id": "1e8883c4",
   "metadata": {},
   "source": [
    "## Multinomial Naïve Bayes model"
   ]
  },
  {
   "cell_type": "code",
   "execution_count": 13,
   "id": "fa451595",
   "metadata": {
    "scrolled": false
   },
   "outputs": [
    {
     "name": "stdout",
     "output_type": "stream",
     "text": [
      "              precision    recall  f1-score   support\n",
      "\n",
      "           0       0.78      0.81      0.79       136\n",
      "           1       0.81      0.78      0.79       141\n",
      "\n",
      "    accuracy                           0.79       277\n",
      "   macro avg       0.79      0.79      0.79       277\n",
      "weighted avg       0.79      0.79      0.79       277\n",
      "\n"
     ]
    },
    {
     "data": {
      "image/png": "[encoded data removed]",
      "text/plain": [
       "<Figure size 432x288 with 2 Axes>"
      ]
     },
     "metadata": {
      "needs_background": "light"
     },
     "output_type": "display_data"
    }
   ],
   "source": [
    "from sklearn.naive_bayes import MultinomialNB\n",
    "from sklearn.metrics import confusion_matrix,classification_report\n",
    "from sklearn.metrics import accuracy_score\n",
    "clf = MultinomialNB()\n",
    "clf.fit(train_X, train_y)\n",
    "y_pred_clf = clf.predict(test_X)\n",
    "plt_format(test_y, y_pred_clf)\n",
    "print(classification_report(test_y, y_pred_clf))"
   ]
  },
  {
   "cell_type": "markdown",
   "id": "be3c2c8a",
   "metadata": {},
   "source": [
    "## Bernoulli Naïve Bayes model"
   ]
  },
  {
   "cell_type": "code",
   "execution_count": 14,
   "id": "f18bcdbf",
   "metadata": {},
   "outputs": [
    {
     "name": "stdout",
     "output_type": "stream",
     "text": [
      "              precision    recall  f1-score   support\n",
      "\n",
      "           0       0.86      0.52      0.65       136\n",
      "           1       0.66      0.91      0.77       141\n",
      "\n",
      "    accuracy                           0.72       277\n",
      "   macro avg       0.76      0.72      0.71       277\n",
      "weighted avg       0.76      0.72      0.71       277\n",
      "\n"
     ]
    },
    {
     "data": {
      "image/png": "[encoded data removed]",
      "text/plain": [
       "<Figure size 432x288 with 2 Axes>"
      ]
     },
     "metadata": {
      "needs_background": "light"
     },
     "output_type": "display_data"
    }
   ],
   "source": [
    "from sklearn.naive_bayes import BernoulliNB\n",
    "bn = BernoulliNB()\n",
    "bn.fit(train_X, train_y)\n",
    "y_pred_bn = bn.predict(test_X)\n",
    "plt_format(test_y, y_pred_bn)\n",
    "print(classification_report(test_y, y_pred_bn))"
   ]
  },
  {
   "cell_type": "markdown",
   "id": "978281e3",
   "metadata": {},
   "source": [
    "## Task 2\n",
    "\n",
    "At first, I was trying to improve the initial multinomial Naive Bayes model, however, the methods mentioned on the internet are not suitable such as stemming, gathering more data and etc what is already applied. Therefore, compared to the initial Naïve Bayes classifier, I choose to implement the SVC model(i.e. Support Vector classifier) for improving the performance.\n",
    "1) SVM is a set of supervised methods used for classification, regression and outliers detection. Also, I used the SVC module, the difference between SVC and SVM is that the objective of a linear SVC(support vector classifier) is to fit the data I provide, returning a \"best fit\" hyperplane that divides, or categories, and the data. Particularly, this class takes one parameter, which is the kernel type. I take the 'linear' type, which means that simple SVMs can only classify linearly separable data. \n",
    "\n",
    "2) The explanation of the process to apply SVMs:\n",
    "    - Using the fit() method, I called to train the algorithm on the training data, which is passed as a parameter to the fit() method\n",
    "    - To make predictions, the predict() method is useful.\n",
    "    - After those processes, to evaluate the algorithm, I print out the confusion matrix, precision, recall and F1 measures. Compared to the above Naive Bayes models, It can be seen that those values in macro and weighted average are slightly higher. \n",
    "    \n",
    "    \n",
    "#### Legal\n",
    "\n",
    "The definition of SVM from \"Support-vector machine, Wikipedia\"\n",
    "https://en.wikipedia.org/wiki/Support-vector_machine#Linear_SVM\n",
    "\n",
    "The process of implementing SVC from \"Implementing SVM and Kernel SVM with Python's Scikit-Learn\"\n",
    "https://stackabuse.com/implementing-svm-and-kernel-svm-with-pythons-scikit-learn/\n",
    "\n",
    "Difference between SVC and SVM from \"Linear SVC machine, learning SVM examples with Python\"\n",
    "https://pythonprogramming.net/linear-svc-example-scikit-learn-svm-python/"
   ]
  },
  {
   "cell_type": "code",
   "execution_count": 15,
   "id": "33613e1c",
   "metadata": {},
   "outputs": [
    {
     "name": "stdout",
     "output_type": "stream",
     "text": [
      "              precision    recall  f1-score   support\n",
      "\n",
      "           0       0.82      0.81      0.81       136\n",
      "           1       0.82      0.83      0.82       141\n",
      "\n",
      "    accuracy                           0.82       277\n",
      "   macro avg       0.82      0.82      0.82       277\n",
      "weighted avg       0.82      0.82      0.82       277\n",
      "\n"
     ]
    },
    {
     "data": {
      "image/png": "[encoded data removed]",
      "text/plain": [
       "<Figure size 432x288 with 2 Axes>"
      ]
     },
     "metadata": {
      "needs_background": "light"
     },
     "output_type": "display_data"
    }
   ],
   "source": [
    "from sklearn.svm import SVC\n",
    "svclassifier = SVC(kernel='linear')\n",
    "svclassifier.fit(train_X, train_y)\n",
    "y_pred_svm = svclassifier.predict(test_X)\n",
    "plt_format(test_y, y_pred_svm)\n",
    "print(classification_report(test_y, y_pred_svm))"
   ]
  }
 ],
 "metadata": {
  "kernelspec": {
   "display_name": "Python 3",
   "language": "python",
   "name": "python3"
  },
  "language_info": {
   "codemirror_mode": {
    "name": "ipython",
    "version": 3
   },
   "file_extension": ".py",
   "mimetype": "text/x-python",
   "name": "python",
   "nbconvert_exporter": "python",
   "pygments_lexer": "ipython3",
   "version": "3.8.8"
  }
 },
 "nbformat": 4,
 "nbformat_minor": 5
}
